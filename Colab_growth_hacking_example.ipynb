{
  "nbformat": 4,
  "nbformat_minor": 0,
  "metadata": {
    "kernelspec": {
      "name": "python3",
      "display_name": "Python 3"
    },
    "colab": {
      "name": "Colab_growth_hacking_example.ipynb",
      "provenance": [],
      "collapsed_sections": [],
      "include_colab_link": true
    },
    "accelerator": "TPU"
  },
  "cells": [
    {
      "cell_type": "markdown",
      "metadata": {
        "id": "view-in-github",
        "colab_type": "text"
      },
      "source": [
        "<a href=\"https://colab.research.google.com/github/ankursalunke/NLP_Sentiment_Analysis/blob/master/Colab_growth_hacking_example.ipynb\" target=\"_parent\"><img src=\"https://colab.research.google.com/assets/colab-badge.svg\" alt=\"Open In Colab\"/></a>"
      ]
    },
    {
      "cell_type": "markdown",
      "metadata": {
        "id": "GT-DiKiYw8yx",
        "colab_type": "text"
      },
      "source": [
        "# Setting up the environment\n",
        "## Install requirements"
      ]
    },
    {
      "cell_type": "code",
      "metadata": {
        "id": "J8HsB1Zrw8y0",
        "colab_type": "code",
        "colab": {}
      },
      "source": [
        "#!wget https://raw.githubusercontent.com/crow-intelligence/growth-hacking-sentiment/master/requirements.txt\n",
        "#!pip install -r requirements.txt\n",
        "#%%writefile setup.sh\n",
        "\n",
        "#export CUDA_HOME=/usr/local/cuda-10.1\n",
        "#git clone https://github.com/NVIDIA/apex\n",
        "#pip install -v --no-cache-dir --global-option=\"--cpp_ext\" --global-option=\"--cuda_ext\" ./apex\n",
        "#!sh setup.sh"
      ],
      "execution_count": 0,
      "outputs": []
    },
    {
      "cell_type": "markdown",
      "metadata": {
        "id": "_Fl-GtPZw8zX",
        "colab_type": "text"
      },
      "source": [
        "## Connect your Colab notebook to your Drive"
      ]
    },
    {
      "cell_type": "code",
      "metadata": {
        "id": "vd5WLhcpw8zY",
        "colab_type": "code",
        "colab": {
          "base_uri": "https://localhost:8080/",
          "height": 34
        },
        "outputId": "344fe2b6-b224-4d6c-e8cc-2ea2acb02dcd"
      },
      "source": [
        "from google.colab import drive\n",
        "drive.mount('/content/drive', force_remount=True)"
      ],
      "execution_count": 2,
      "outputs": [
        {
          "output_type": "stream",
          "text": [
            "Mounted at /content/drive\n"
          ],
          "name": "stdout"
        }
      ]
    },
    {
      "cell_type": "markdown",
      "metadata": {
        "id": "6hJ7bSN6zS1i",
        "colab_type": "text"
      },
      "source": [
        "Installing ndjson since our data file is a new line delimited JSON.\n",
        "Installing imblearn to perform random under sampling"
      ]
    },
    {
      "cell_type": "code",
      "metadata": {
        "id": "TR8tEUDV15cM",
        "colab_type": "code",
        "outputId": "7dc5eb97-897b-47f2-d8b6-17970ffb064a",
        "colab": {
          "base_uri": "https://localhost:8080/",
          "height": 156
        }
      },
      "source": [
        "!pip install ndjson\n",
        "!pip install imblearn"
      ],
      "execution_count": 3,
      "outputs": [
        {
          "output_type": "stream",
          "text": [
            "Requirement already satisfied: ndjson in /usr/local/lib/python3.6/dist-packages (0.3.1)\n",
            "Requirement already satisfied: imblearn in /usr/local/lib/python3.6/dist-packages (0.0)\n",
            "Requirement already satisfied: imbalanced-learn in /usr/local/lib/python3.6/dist-packages (from imblearn) (0.4.3)\n",
            "Requirement already satisfied: scipy>=0.13.3 in /usr/local/lib/python3.6/dist-packages (from imbalanced-learn->imblearn) (1.4.1)\n",
            "Requirement already satisfied: numpy>=1.8.2 in /usr/local/lib/python3.6/dist-packages (from imbalanced-learn->imblearn) (1.18.5)\n",
            "Requirement already satisfied: scikit-learn>=0.20 in /usr/local/lib/python3.6/dist-packages (from imbalanced-learn->imblearn) (0.22.2.post1)\n",
            "Requirement already satisfied: joblib>=0.11 in /usr/local/lib/python3.6/dist-packages (from scikit-learn>=0.20->imbalanced-learn->imblearn) (0.15.1)\n"
          ],
          "name": "stdout"
        }
      ]
    },
    {
      "cell_type": "markdown",
      "metadata": {
        "id": "cpVgZK9Lpw8r",
        "colab_type": "text"
      },
      "source": [
        "Importing the required packages"
      ]
    },
    {
      "cell_type": "code",
      "metadata": {
        "id": "BXeaSP6p161l",
        "colab_type": "code",
        "colab": {
          "base_uri": "https://localhost:8080/",
          "height": 139
        },
        "outputId": "d96e7c2d-3111-401d-f474-e2799e3e96d7"
      },
      "source": [
        "import ndjson\n",
        "import pandas as pd\n",
        "import numpy as np\n",
        "import seaborn as sns\n",
        "import matplotlib.pyplot as plt\n",
        "from imblearn import under_sampling"
      ],
      "execution_count": 4,
      "outputs": [
        {
          "output_type": "stream",
          "text": [
            "/usr/local/lib/python3.6/dist-packages/statsmodels/tools/_testing.py:19: FutureWarning: pandas.util.testing is deprecated. Use the functions in the public API at pandas.testing instead.\n",
            "  import pandas.util.testing as tm\n",
            "/usr/local/lib/python3.6/dist-packages/sklearn/externals/six.py:31: FutureWarning: The module is deprecated in version 0.21 and will be removed in version 0.23 since we've dropped support for Python 2.7. Please rely on the official version of six (https://pypi.org/project/six/).\n",
            "  \"(https://pypi.org/project/six/).\", FutureWarning)\n",
            "/usr/local/lib/python3.6/dist-packages/sklearn/utils/deprecation.py:144: FutureWarning: The sklearn.neighbors.base module is  deprecated in version 0.22 and will be removed in version 0.24. The corresponding classes / functions should instead be imported from sklearn.neighbors. Anything that cannot be imported from sklearn.neighbors is now part of the private API.\n",
            "  warnings.warn(message, FutureWarning)\n"
          ],
          "name": "stderr"
        }
      ]
    },
    {
      "cell_type": "markdown",
      "metadata": {
        "id": "rSUez57NqGae",
        "colab_type": "text"
      },
      "source": [
        "Importing data from our data file to a dictionary"
      ]
    },
    {
      "cell_type": "code",
      "metadata": {
        "id": "pWll3pYg5B5i",
        "colab_type": "code",
        "colab": {}
      },
      "source": [
        "with open('/content/drive/My Drive/Colab Notebooks/Growth_Hacking_Data/Video_Games_5.json') as f:\n",
        "  data = ndjson.load(f)"
      ],
      "execution_count": 0,
      "outputs": []
    },
    {
      "cell_type": "markdown",
      "metadata": {
        "id": "oe3_RmvBqK0G",
        "colab_type": "text"
      },
      "source": [
        "Converting the data in dict form to a dataframe."
      ]
    },
    {
      "cell_type": "code",
      "metadata": {
        "id": "0Q6DiXTJ54z4",
        "colab_type": "code",
        "colab": {}
      },
      "source": [
        "dataset = pd.DataFrame.from_dict(data)"
      ],
      "execution_count": 0,
      "outputs": []
    },
    {
      "cell_type": "markdown",
      "metadata": {
        "id": "9GbFG_j8qTqo",
        "colab_type": "text"
      },
      "source": [
        "Checking the size of the dataset."
      ]
    },
    {
      "cell_type": "code",
      "metadata": {
        "id": "lhIgUw8b6qUx",
        "colab_type": "code",
        "outputId": "d1b6481f-285e-46a2-c85c-5d258f16b332",
        "colab": {
          "base_uri": "https://localhost:8080/",
          "height": 34
        }
      },
      "source": [
        "print(\"The dataset has \",dataset.shape[0],\"rows and \",dataset.shape[1],\"columns.\")"
      ],
      "execution_count": 7,
      "outputs": [
        {
          "output_type": "stream",
          "text": [
            "The dataset has  497577 rows and  12 columns.\n"
          ],
          "name": "stdout"
        }
      ]
    },
    {
      "cell_type": "markdown",
      "metadata": {
        "id": "LmoQEyvBuwOo",
        "colab_type": "text"
      },
      "source": [
        "Viewing a sample of the data."
      ]
    },
    {
      "cell_type": "code",
      "metadata": {
        "id": "WX3HE2cHuv7A",
        "colab_type": "code",
        "colab": {
          "base_uri": "https://localhost:8080/",
          "height": 289
        },
        "outputId": "0f2f34bd-a46a-46e6-b910-a6fd3fe1b2d4"
      },
      "source": [
        "dataset.head()"
      ],
      "execution_count": 8,
      "outputs": [
        {
          "output_type": "execute_result",
          "data": {
            "text/html": [
              "<div>\n",
              "<style scoped>\n",
              "    .dataframe tbody tr th:only-of-type {\n",
              "        vertical-align: middle;\n",
              "    }\n",
              "\n",
              "    .dataframe tbody tr th {\n",
              "        vertical-align: top;\n",
              "    }\n",
              "\n",
              "    .dataframe thead th {\n",
              "        text-align: right;\n",
              "    }\n",
              "</style>\n",
              "<table border=\"1\" class=\"dataframe\">\n",
              "  <thead>\n",
              "    <tr style=\"text-align: right;\">\n",
              "      <th></th>\n",
              "      <th>overall</th>\n",
              "      <th>verified</th>\n",
              "      <th>reviewTime</th>\n",
              "      <th>reviewerID</th>\n",
              "      <th>asin</th>\n",
              "      <th>reviewerName</th>\n",
              "      <th>reviewText</th>\n",
              "      <th>summary</th>\n",
              "      <th>unixReviewTime</th>\n",
              "      <th>vote</th>\n",
              "      <th>style</th>\n",
              "      <th>image</th>\n",
              "    </tr>\n",
              "  </thead>\n",
              "  <tbody>\n",
              "    <tr>\n",
              "      <th>0</th>\n",
              "      <td>5.0</td>\n",
              "      <td>True</td>\n",
              "      <td>10 17, 2015</td>\n",
              "      <td>A1HP7NVNPFMA4N</td>\n",
              "      <td>0700026657</td>\n",
              "      <td>Ambrosia075</td>\n",
              "      <td>This game is a bit hard to get the hang of, bu...</td>\n",
              "      <td>but when you do it's great.</td>\n",
              "      <td>1445040000</td>\n",
              "      <td>NaN</td>\n",
              "      <td>NaN</td>\n",
              "      <td>NaN</td>\n",
              "    </tr>\n",
              "    <tr>\n",
              "      <th>1</th>\n",
              "      <td>4.0</td>\n",
              "      <td>False</td>\n",
              "      <td>07 27, 2015</td>\n",
              "      <td>A1JGAP0185YJI6</td>\n",
              "      <td>0700026657</td>\n",
              "      <td>travis</td>\n",
              "      <td>I played it a while but it was alright. The st...</td>\n",
              "      <td>But in spite of that it was fun, I liked it</td>\n",
              "      <td>1437955200</td>\n",
              "      <td>NaN</td>\n",
              "      <td>NaN</td>\n",
              "      <td>NaN</td>\n",
              "    </tr>\n",
              "    <tr>\n",
              "      <th>2</th>\n",
              "      <td>3.0</td>\n",
              "      <td>True</td>\n",
              "      <td>02 23, 2015</td>\n",
              "      <td>A1YJWEXHQBWK2B</td>\n",
              "      <td>0700026657</td>\n",
              "      <td>Vincent G. Mezera</td>\n",
              "      <td>ok game.</td>\n",
              "      <td>Three Stars</td>\n",
              "      <td>1424649600</td>\n",
              "      <td>NaN</td>\n",
              "      <td>NaN</td>\n",
              "      <td>NaN</td>\n",
              "    </tr>\n",
              "    <tr>\n",
              "      <th>3</th>\n",
              "      <td>2.0</td>\n",
              "      <td>True</td>\n",
              "      <td>02 20, 2015</td>\n",
              "      <td>A2204E1TH211HT</td>\n",
              "      <td>0700026657</td>\n",
              "      <td>Grandma KR</td>\n",
              "      <td>found the game a bit too complicated, not what...</td>\n",
              "      <td>Two Stars</td>\n",
              "      <td>1424390400</td>\n",
              "      <td>NaN</td>\n",
              "      <td>NaN</td>\n",
              "      <td>NaN</td>\n",
              "    </tr>\n",
              "    <tr>\n",
              "      <th>4</th>\n",
              "      <td>5.0</td>\n",
              "      <td>True</td>\n",
              "      <td>12 25, 2014</td>\n",
              "      <td>A2RF5B5H74JLPE</td>\n",
              "      <td>0700026657</td>\n",
              "      <td>jon</td>\n",
              "      <td>great game, I love it and have played it since...</td>\n",
              "      <td>love this game</td>\n",
              "      <td>1419465600</td>\n",
              "      <td>NaN</td>\n",
              "      <td>NaN</td>\n",
              "      <td>NaN</td>\n",
              "    </tr>\n",
              "  </tbody>\n",
              "</table>\n",
              "</div>"
            ],
            "text/plain": [
              "   overall  verified   reviewTime  ... vote style image\n",
              "0      5.0      True  10 17, 2015  ...  NaN   NaN   NaN\n",
              "1      4.0     False  07 27, 2015  ...  NaN   NaN   NaN\n",
              "2      3.0      True  02 23, 2015  ...  NaN   NaN   NaN\n",
              "3      2.0      True  02 20, 2015  ...  NaN   NaN   NaN\n",
              "4      5.0      True  12 25, 2014  ...  NaN   NaN   NaN\n",
              "\n",
              "[5 rows x 12 columns]"
            ]
          },
          "metadata": {
            "tags": []
          },
          "execution_count": 8
        }
      ]
    },
    {
      "cell_type": "markdown",
      "metadata": {
        "id": "2ttr1j0fqbxX",
        "colab_type": "text"
      },
      "source": [
        "Checking the number of missing values in the dataset."
      ]
    },
    {
      "cell_type": "code",
      "metadata": {
        "id": "XueksVJKJxXC",
        "colab_type": "code",
        "colab": {
          "base_uri": "https://localhost:8080/",
          "height": 238
        },
        "outputId": "26ee698c-ba1c-4118-f4df-bfb774a2db8a"
      },
      "source": [
        "dataset.isnull().sum()"
      ],
      "execution_count": 9,
      "outputs": [
        {
          "output_type": "execute_result",
          "data": {
            "text/plain": [
              "overall                0\n",
              "verified               0\n",
              "reviewTime             0\n",
              "reviewerID             0\n",
              "asin                   0\n",
              "reviewerName          76\n",
              "reviewText           158\n",
              "summary              109\n",
              "unixReviewTime         0\n",
              "vote              389784\n",
              "style             208340\n",
              "image             493943\n",
              "dtype: int64"
            ]
          },
          "metadata": {
            "tags": []
          },
          "execution_count": 9
        }
      ]
    },
    {
      "cell_type": "markdown",
      "metadata": {
        "id": "dzs4iBM7sSvA",
        "colab_type": "text"
      },
      "source": [
        "Since we would be using the reviewText column, we need to take care of the missing values. We have just put an empty string there for now."
      ]
    },
    {
      "cell_type": "code",
      "metadata": {
        "id": "s7ffk_LhJ84L",
        "colab_type": "code",
        "colab": {}
      },
      "source": [
        "dataset['reviewText'].fillna(\"\",inplace=True)"
      ],
      "execution_count": 0,
      "outputs": []
    },
    {
      "cell_type": "markdown",
      "metadata": {
        "id": "GC_JdYC-sgSy",
        "colab_type": "text"
      },
      "source": [
        "\n",
        "\n",
        "Plotting the distribution of ratings .\n",
        "\n"
      ]
    },
    {
      "cell_type": "code",
      "metadata": {
        "id": "7LzbxbIm8Y-a",
        "colab_type": "code",
        "outputId": "9ce2c8d4-256f-483f-c48a-a6fea9b1fb65",
        "colab": {
          "base_uri": "https://localhost:8080/",
          "height": 606
        }
      },
      "source": [
        "f,ax = plt.subplots(figsize=(10,10))\n",
        "sns.countplot(dataset['overall'])\n",
        "ax.set_ylabel(\"Count of Ratings\")\n",
        "ax.set_xlabel(\"Ratings\")\n",
        "bars = ax.patches\n",
        "total_height = sum([bar.get_height() for bar in bars])\n",
        "\n",
        "for bar in bars:\n",
        "  ax.text(bar.get_x()+bar.get_width()/2, bar.get_height()+1000,'{0:.0%}'.format(bar.get_height()/total_height),ha=\"center\")"
      ],
      "execution_count": 11,
      "outputs": [
        {
          "output_type": "display_data",
          "data": {
            "image/png": "[encoded data removed]",
            "text/plain": [
              "<Figure size 720x720 with 1 Axes>"
            ]
          },
          "metadata": {
            "tags": [],
            "needs_background": "light"
          }
        }
      ]
    },
    {
      "cell_type": "markdown",
      "metadata": {
        "id": "uX6GSWrsv9MK",
        "colab_type": "text"
      },
      "source": [
        "Initializing random under sampler as per the strategy suggested."
      ]
    },
    {
      "cell_type": "code",
      "metadata": {
        "id": "7cn5n3SsS0zj",
        "colab_type": "code",
        "colab": {}
      },
      "source": [
        "random_us = under_sampling.RandomUnderSampler(sampling_strategy = {1.0:1500,2.0:500,3.0:500,4.0:500,5.0:1500},random_state=42)"
      ],
      "execution_count": 0,
      "outputs": []
    },
    {
      "cell_type": "markdown",
      "metadata": {
        "id": "mrsRvJ55xsRV",
        "colab_type": "text"
      },
      "source": [
        "Preparing the data to be passed for under sampling."
      ]
    },
    {
      "cell_type": "code",
      "metadata": {
        "id": "uEMS3gMvUMy4",
        "colab_type": "code",
        "colab": {}
      },
      "source": [
        "X= dataset.reviewText.values.reshape(-1,1)\n",
        "y= dataset.overall.values.reshape(-1,1)"
      ],
      "execution_count": 0,
      "outputs": []
    },
    {
      "cell_type": "markdown",
      "metadata": {
        "id": "7J3d4RTjx0CT",
        "colab_type": "text"
      },
      "source": [
        "Resamping the data as per the strategy."
      ]
    },
    {
      "cell_type": "code",
      "metadata": {
        "id": "qB4cPygtUNnv",
        "colab_type": "code",
        "colab": {
          "base_uri": "https://localhost:8080/",
          "height": 71
        },
        "outputId": "6f3d0961-d1db-4185-a91e-3b4d17842a25"
      },
      "source": [
        "X_usample, y_usample = random_us.fit_resample(X,y)"
      ],
      "execution_count": 14,
      "outputs": [
        {
          "output_type": "stream",
          "text": [
            "/usr/local/lib/python3.6/dist-packages/sklearn/utils/deprecation.py:87: FutureWarning: Function safe_indexing is deprecated; safe_indexing is deprecated in version 0.22 and will be removed in version 0.24.\n",
            "  warnings.warn(msg, category=FutureWarning)\n"
          ],
          "name": "stderr"
        }
      ]
    },
    {
      "cell_type": "markdown",
      "metadata": {
        "id": "H_t_agFpyXXj",
        "colab_type": "text"
      },
      "source": [
        "We run a counter to check if the new sample has the data as per our requirement."
      ]
    },
    {
      "cell_type": "code",
      "metadata": {
        "id": "OGIfiJHuIuA5",
        "colab_type": "code",
        "colab": {
          "base_uri": "https://localhost:8080/",
          "height": 34
        },
        "outputId": "8d7534d1-c442-4f23-ad03-d75e7c7e46ae"
      },
      "source": [
        "flat_list = [item for sublist in y_usample for item in sublist]\n",
        "from collections import Counter\n",
        "Counter(flat_list)"
      ],
      "execution_count": 15,
      "outputs": [
        {
          "output_type": "execute_result",
          "data": {
            "text/plain": [
              "Counter({1.0: 1500, 2.0: 500, 3.0: 500, 4.0: 500, 5.0: 1500})"
            ]
          },
          "metadata": {
            "tags": []
          },
          "execution_count": 15
        }
      ]
    },
    {
      "cell_type": "markdown",
      "metadata": {
        "id": "VYLfsXF3yhbL",
        "colab_type": "text"
      },
      "source": [
        "We use np.random.choice to selected a random sample of 100,000 records and put it in a new dataset."
      ]
    },
    {
      "cell_type": "code",
      "metadata": {
        "id": "S-HGLo0dunS7",
        "colab_type": "code",
        "colab": {}
      },
      "source": [
        "np.random.seed(42)\n",
        "index_random = np.random.choice(np.arange(dataset.index.values.max()+1),100000,replace=False)\n",
        "dataset_100k = dataset.loc[index_random,[\"overall\",\"reviewText\"]].reset_index(drop=True)"
      ],
      "execution_count": 0,
      "outputs": []
    },
    {
      "cell_type": "markdown",
      "metadata": {
        "id": "XZI1Kenqytbv",
        "colab_type": "text"
      },
      "source": [
        "Checking the size of the new dataset."
      ]
    },
    {
      "cell_type": "code",
      "metadata": {
        "id": "EuzAJZCLGwRW",
        "colab_type": "code",
        "colab": {
          "base_uri": "https://localhost:8080/",
          "height": 34
        },
        "outputId": "eab4b1cc-813c-4802-81dd-3afe227a1369"
      },
      "source": [
        "dataset_100k.shape"
      ],
      "execution_count": 17,
      "outputs": [
        {
          "output_type": "execute_result",
          "data": {
            "text/plain": [
              "(100000, 2)"
            ]
          },
          "metadata": {
            "tags": []
          },
          "execution_count": 17
        }
      ]
    },
    {
      "cell_type": "markdown",
      "metadata": {
        "id": "w5JacwviyxdP",
        "colab_type": "text"
      },
      "source": [
        "Renaming the columns in the new dataset as per our requirement."
      ]
    },
    {
      "cell_type": "code",
      "metadata": {
        "id": "iRIpXHffGxfk",
        "colab_type": "code",
        "colab": {}
      },
      "source": [
        "dataset_100k.rename(columns={\"overall\":\"ratings\",\"reviewText\":\"reviews\"},inplace=True)"
      ],
      "execution_count": 0,
      "outputs": []
    },
    {
      "cell_type": "markdown",
      "metadata": {
        "id": "ffBkVCRQy1ht",
        "colab_type": "text"
      },
      "source": [
        "Checking a sample of 10 rows of data in our new dataset."
      ]
    },
    {
      "cell_type": "code",
      "metadata": {
        "id": "YQIfAnl7HKaG",
        "colab_type": "code",
        "colab": {
          "base_uri": "https://localhost:8080/",
          "height": 359
        },
        "outputId": "a055eb6c-7a12-4cbb-8947-54e60e02a25c"
      },
      "source": [
        "dataset_100k.sample(10)"
      ],
      "execution_count": 19,
      "outputs": [
        {
          "output_type": "execute_result",
          "data": {
            "text/html": [
              "<div>\n",
              "<style scoped>\n",
              "    .dataframe tbody tr th:only-of-type {\n",
              "        vertical-align: middle;\n",
              "    }\n",
              "\n",
              "    .dataframe tbody tr th {\n",
              "        vertical-align: top;\n",
              "    }\n",
              "\n",
              "    .dataframe thead th {\n",
              "        text-align: right;\n",
              "    }\n",
              "</style>\n",
              "<table border=\"1\" class=\"dataframe\">\n",
              "  <thead>\n",
              "    <tr style=\"text-align: right;\">\n",
              "      <th></th>\n",
              "      <th>ratings</th>\n",
              "      <th>reviews</th>\n",
              "    </tr>\n",
              "  </thead>\n",
              "  <tbody>\n",
              "    <tr>\n",
              "      <th>55272</th>\n",
              "      <td>5.0</td>\n",
              "      <td>Just as Stated, Grandson loved it!!!!! Thank you.</td>\n",
              "    </tr>\n",
              "    <tr>\n",
              "      <th>4913</th>\n",
              "      <td>5.0</td>\n",
              "      <td>---  2017 Update.  I couldn't be happier with ...</td>\n",
              "    </tr>\n",
              "    <tr>\n",
              "      <th>44561</th>\n",
              "      <td>5.0</td>\n",
              "      <td>I just recently starting playing The Sims (the...</td>\n",
              "    </tr>\n",
              "    <tr>\n",
              "      <th>35634</th>\n",
              "      <td>2.0</td>\n",
              "      <td>Crappy</td>\n",
              "    </tr>\n",
              "    <tr>\n",
              "      <th>9060</th>\n",
              "      <td>4.0</td>\n",
              "      <td>As one might expect, there are similarities be...</td>\n",
              "    </tr>\n",
              "    <tr>\n",
              "      <th>28112</th>\n",
              "      <td>5.0</td>\n",
              "      <td>Great Amiibo to add to any collection</td>\n",
              "    </tr>\n",
              "    <tr>\n",
              "      <th>17542</th>\n",
              "      <td>5.0</td>\n",
              "      <td>GPU killer game\\nreally fantastic game I love ...</td>\n",
              "    </tr>\n",
              "    <tr>\n",
              "      <th>11713</th>\n",
              "      <td>2.0</td>\n",
              "      <td>To be fair, I realize I have higher demands on...</td>\n",
              "    </tr>\n",
              "    <tr>\n",
              "      <th>3176</th>\n",
              "      <td>3.0</td>\n",
              "      <td>This is a boring game. I was very excited to p...</td>\n",
              "    </tr>\n",
              "    <tr>\n",
              "      <th>83174</th>\n",
              "      <td>2.0</td>\n",
              "      <td>Compared to GTA or Sleeping Dogs, the only thi...</td>\n",
              "    </tr>\n",
              "  </tbody>\n",
              "</table>\n",
              "</div>"
            ],
            "text/plain": [
              "       ratings                                            reviews\n",
              "55272      5.0  Just as Stated, Grandson loved it!!!!! Thank you.\n",
              "4913       5.0  ---  2017 Update.  I couldn't be happier with ...\n",
              "44561      5.0  I just recently starting playing The Sims (the...\n",
              "35634      2.0                                             Crappy\n",
              "9060       4.0  As one might expect, there are similarities be...\n",
              "28112      5.0              Great Amiibo to add to any collection\n",
              "17542      5.0  GPU killer game\\nreally fantastic game I love ...\n",
              "11713      2.0  To be fair, I realize I have higher demands on...\n",
              "3176       3.0  This is a boring game. I was very excited to p...\n",
              "83174      2.0  Compared to GTA or Sleeping Dogs, the only thi..."
            ]
          },
          "metadata": {
            "tags": []
          },
          "execution_count": 19
        }
      ]
    },
    {
      "cell_type": "markdown",
      "metadata": {
        "id": "SooXIK1Cy57y",
        "colab_type": "text"
      },
      "source": [
        "Exporting the data into two files."
      ]
    },
    {
      "cell_type": "code",
      "metadata": {
        "id": "lUS0qEEJJ4yF",
        "colab_type": "code",
        "colab": {}
      },
      "source": [
        "dataset_100k.to_csv(\"/content/drive/My Drive/Colab Notebooks/Growth_Hacking_Data/small_corpus.csv\")\n",
        "dataset_100k.to_csv(\"/content/drive/My Drive/Colab Notebooks/Growth_Hacking_Data/big_corpus.csv\")"
      ],
      "execution_count": 0,
      "outputs": []
    }
  ]
}